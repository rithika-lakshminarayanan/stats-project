{
 "cells": [
  {
   "cell_type": "markdown",
   "metadata": {},
   "source": [
    "## Logistic Regression with IRLS\n",
    "\n",
    "#### Contents\n",
    "1. [Data Ingestion](#Ingestion)\n",
    "2. [Model Specification](#Specification)\n",
    "3. [Model Fitting](#Fitting)\n",
    "4. [Complete Algorithm and Analysis](#Complete)"
   ]
  },
  {
   "cell_type": "code",
   "execution_count": 5,
   "metadata": {},
   "outputs": [],
   "source": [
    "import math\n",
    "import numpy as np\n",
    "import matplotlib.pyplot as plt\n",
    "import os\n",
    "%matplotlib inline"
   ]
  },
  {
   "cell_type": "markdown",
   "metadata": {},
   "source": [
    "<a id='Ingestion'></a>\n",
    "### 1. Data Ingestion\n",
    "The read_dataset() function defined here can be used to read numerical data and create a LogisticModel. The LogisticModel class will be defined further below."
   ]
  },
  {
   "cell_type": "code",
   "execution_count": 2,
   "metadata": {},
   "outputs": [],
   "source": [
    "def read_dataset(path, name='logistic', data_only = False):\n",
    "    \n",
    "    \"\"\"   \n",
    "    Given a .csv file path, separates the responsevector y from the data matrix X.\n",
    "    Assumes all columns have headings, are numerical, and the response vector is the first column.\n",
    "    Returns an instance of LogisticModel with the following attributes:\n",
    "        name: provided name for model\n",
    "        varnames: tuple of variable names\n",
    "        y: the response vector,\n",
    "        X: the predictor matrix, with an additional dummy variable of 1's for the intercept coefficient\n",
    "        \n",
    "    Alternatively, returns the numpy arrays only as a tuple (y,X)\n",
    "    \"\"\"\n",
    "        \n",
    "    data_struc = np.genfromtxt(path, dtype=float, names=True, delimiter=\",\")\n",
    "    data_array = data_struc.view((float, len(data_struc.dtype.names)))\n",
    "    split_data = np.split(data_array, indices_or_sections=[1], axis=1)\n",
    "    varnames = data_struc.dtype.names\n",
    "    y = split_data[0].flatten()\n",
    "    X = np.concatenate((np.ones_like(split_data[0].flatten(), dtype='float64')[:, np.newaxis], split_data[1]), axis=1)\n",
    "    \n",
    "    if data_only:\n",
    "        return (y,X)\n",
    "    else:\n",
    "        return(LogisticModel(name,varnames,y,X))"
   ]
  },
  {
   "cell_type": "markdown",
   "metadata": {},
   "source": [
    "<a id='Specification'></a>\n",
    "### 2. Model Specification\n",
    "For logistic regression, we model the probability of each $Y_{i}$ conditioned on the $m$ explanatory variables as the outcome of a Bernoulli-distributed random variable:\n",
    "\n",
    "$$Y_{i}\\mid x_{1,i},...,x_{m,i}\\sim \\mathrm{Bernoulli}(p_{i})$$\n",
    "\n",
    "Each Bernoulli has a single parameter, $p_{i}$, the probability of a success and expected value.\n",
    "\n",
    "The model is specified using the logit transformation so that the predicted log-odds is a linear function of the explanatory variables, $\\mathbf{x}$, and the predicted probability will be between 0 and 1:\n",
    "\n",
    "$$\\log\\frac{p(\\mathbf{x}_{i})}{1-p(\\mathbf{x}_{i})} = \\mathbf{w}^{T}\\mathbf{x}_{i}$$\n",
    "\n",
    "$$p(\\mathbf{x}_{i}) = \\frac{1}{1+e^{-\\mathbf{w}^{T}\\mathbf{x}_{i}}}$$\n",
    "\n",
    "where $\\mathbf{w}$ is a vector of size $m+1$ containing the coefficients and intercept.\n",
    "\n",
    "\n",
    "#### Python:\n",
    "```python\n",
    "# y is the response vector,\n",
    "# X is the predictor matrix, with an additional dummy variable of 1's for the intercept coefficient    \n",
    "\n",
    "w = np.array([0]*X.shape[1], dtype='float64') # create our coefficient vector\n",
    "y_bar = np.mean(y)\n",
    "w_init = math.log(y_bar/(1-y_bar)) # our intitial estimate of the coefficients\n",
    "h = w_init + X.dot(w) # create a vector of linear predictors\n",
    "p = 1/(1+np.exp(-h)) # create a vector of fitted values\n",
    "```"
   ]
  },
  {
   "cell_type": "markdown",
   "metadata": {},
   "source": [
    "<a id='Fitting'></a>\n",
    "### 3. Model Fitting\n",
    "\n",
    "I’ve used the method of Iteratively Reweighted Least Squares (IRLS) to find the maximum likelihood estimate. In this case, IRLS is equivalent to Newton's method, a second-order optimization algorithm.\n",
    "\n",
    "Assuming $n$ independent Bernoulli trials, we have a combined likelihood function for our training data:\n",
    "\n",
    "$$L(\\mathbf{w}) = \\prod_{i=1}^{n}p(\\mathbf{x}_{i})^{y_{i}}(1-p(\\mathbf{x}_{i})^{1-y_{i}})$$\n",
    "\n",
    "and the negative log-liklihood, which we seek to minimize:\n",
    "\n",
    "$$\\mathrm{NLL}(\\mathbf{w})=-\\sum_{i=1}^{n}y_{i}\\log p_{i}+(1-y_{i})\\log (1-p_{i})$$\n",
    "\n",
    "We can be sure that the algorithm will converge to a unique NLL because the function is strictly convex. Newton’s method consists of taking a series of $k$ \"Newton steps\" of size $-\\mathbf{H}_{k}^{-1}\\mathbf{g}_{k}$, where $\\mathbf{g}$ is the gradient and $\\mathbf{H}$ is the Hessian of $\\mathrm{NLL}$:\n",
    "\n",
    "$$\\mathbf{g} = \\frac{d}{d\\mathbf{w}}f(\\mathbf{w})= \\sum_{i=1}^{n}(p_{i}-y_{i})\\mathbf{x}_{i}=\\mathbf{X}^T(\\mathbf{p}-\\mathbf{y})$$\n",
    "\n",
    "$$\\mathbf{H} = \\frac{d}{d\\mathbf{w}}g(\\mathbf{w})^T=\\sum_{i=1}^{n}(\\nabla_{\\mathbf{w}}p_{i})\\mathbf{x}_{i}^T=\\sum_{i=1}^{n}p_i(1-p_i)\\mathbf{x}_i\\mathbf{x}_i^T=\\mathbf{X}^T\\mathbf{SX}$$\n",
    "\n",
    "$$\\mathbf{S}=\\mathrm{diag}(p_i(1-p_i))$$\n",
    "\n",
    "$\\mathbf{S}$ is a diagonal weighting matrix that simplifies each iteration to solving a weighted least squares problem. Each sample will be repeatedly re-weighted inverse to its estimated variance, $p_i(1-p_i)$ (also the derivative of $p$ with respect to the linear predictor). Our original Newton steps can be simplified:\n",
    "\n",
    "$$\\mathbf{w}_{k+1}=\\mathbf{w}_k-\\mathbf{H}^{-1}\\mathbf{g}_k$$\n",
    "\n",
    "$$\\mathbf{w}_{k+1}=(\\mathbf{X}^T\\mathbf{S}_k\\mathbf{X})^{-1}\\mathbf{X}^T\\mathbf{S}_k\\mathbf{z}_k$$\n",
    "\n",
    "where $\\mathbf{z}$ is a \"working response\" vector for our weighted least squares problem:\n",
    "\n",
    "$$z_{ki}=\\mathbf{w}^T_k\\mathbf{x}_i+\\frac{y_i-p_{ki}}{p_{ki}(1-p_{ki})}$$\n",
    "\n",
    "#### Python:\n",
    "```python\n",
    "s = p*(1-p) # calculate vector of variances\n",
    "S = np.diag(s) # calculate the diagonal matrix\n",
    "\n",
    "# calculate the working response vector, avoiding division by zero\n",
    "arb_small = np.ones_like(s, dtype='float64')*.000000001\n",
    "z = eta + np.divide((y-mu), s, out=arb_small, where=s!=0)\n",
    "\n",
    "# calculate the new coefficients\n",
    "Xt = np.transpose(X)\n",
    "XtS = Xt.dot(S)\n",
    "XtSX = XtS.dot(X)\n",
    "inverse_of_XtSX = np.linalg.inv(XtSX)\n",
    "inverse_of_XtSX_Xt = inverse_of_XtSX.dot(Xt)\n",
    "inverse_of_XtSX_XtS = inverse_of_XtSX_Xt.dot(S)\n",
    "w = inverse_of_XtSX_XtS.dot(z)\n",
    "```"
   ]
  },
  {
   "cell_type": "markdown",
   "metadata": {
    "collapsed": true
   },
   "source": [
    "<a id='Complete'></a>\n",
    "### 4. Complete Algorithm and Analysis\n",
    "The complete algorithm will be placed in the fit() method of the LogisticModel class, along with some logic to track and determine if the series converges."
   ]
  },
  {
   "cell_type": "code",
   "execution_count": 3,
   "metadata": {},
   "outputs": [],
   "source": [
    "class LogisticModel(object):\n",
    "    \"\"\"A logistic regression model for fitting and predicting binary response data.\n",
    "    \n",
    "    Attributes:\n",
    "        name: provided name of model\n",
    "        varnames: tuple of variable names\n",
    "        y: the response vector,\n",
    "        X: the predictor matrix, with an additional dummy variable of 1's for the intercept coefficient   \n",
    "    \"\"\"\n",
    "\n",
    "    def __init__(self, name, varnames, y, X):\n",
    "        self.name = name\n",
    "        self.varnames = varnames\n",
    "        self.y = y\n",
    "        self.X = X\n",
    "\n",
    "    def fit(self, iterations=25):\n",
    "        \"\"\"\n",
    "        Given a response vector (y), training data matrix (X), runs the IRLS algorithm to the specified number of iterations.\n",
    "        Returns a dictionary containing the coefficients \n",
    "        \"\"\"\n",
    "\n",
    "        w = np.array([0]*self.X.shape[1], dtype='float64')\n",
    "        y_bar = np.mean(self.y)\n",
    "        w_init = math.log(y_bar/(1-y_bar))\n",
    "        self.converged = False\n",
    "        nll_sequence = []\n",
    "        for i in range(iterations):\n",
    "            h = self.X.dot(w)\n",
    "            p = 1/(1+np.exp(-h))\n",
    "            p_adj = p\n",
    "            p_adj[p_adj==1.0] = 0.99999999\n",
    "            nll = -(1-self.y.dot(np.log(1-p_adj)))+self.y.dot(np.log(p_adj))\n",
    "            nll_sequence += [nll]\n",
    "            \n",
    "            if i>1:\n",
    "                if not self.converged and abs(nll_sequence[-1]-nll_sequence[-2])<.000001:\n",
    "                    self.converged = True\n",
    "                    self.converged_k = i+1\n",
    "            \n",
    "            s = p*(1-p)\n",
    "            S = np.diag(s)\n",
    "            arb_small = np.ones_like(s, dtype='float64')*.000001\n",
    "            z = h + np.divide((self.y-p), s, out=arb_small, where=s!=0)\n",
    "            Xt = np.transpose(self.X)\n",
    "            XtS = Xt.dot(S)\n",
    "            XtSX = XtS.dot(self.X)\n",
    "            inverse_of_XtSX = np.linalg.inv(XtSX)\n",
    "            inverse_of_XtSX_Xt = inverse_of_XtSX.dot(Xt)\n",
    "            inverse_of_XtSX_XtS = inverse_of_XtSX_Xt.dot(S)\n",
    "            w = inverse_of_XtSX_XtS.dot(z)\n",
    "                                                \n",
    "        self.nll = nll\n",
    "        self.nll_sequence = nll_sequence                                                      \n",
    "        self.w=w\n",
    "        \n",
    "        if not self.converged:\n",
    "            print('Warning: IRLS failed to converge. Try increasing the number of iterations.')\n",
    "        \n",
    "        return(self)\n",
    "    \n",
    "    def summary(self):\n",
    "        \"\"\"\n",
    "        Prints a formatted table of the model coefficients \n",
    "        \"\"\"\n",
    "        \n",
    "        if not hasattr(self, 'w'):\n",
    "            print('LogisticModel has not been fit.')\n",
    "            return(None)\n",
    "        \n",
    "        coef_labels = ['---------------','<Intercept>']+list(self.varnames[1:])\n",
    "        estimates = ['---------------']+list(self.w)\n",
    "        \n",
    "        # This table will eventually contain more metrics\n",
    "        table_dic = dict(zip(coef_labels, estimates))\n",
    "        \n",
    "        coef_str = ' + '.join(self.varnames[1:])+'\\n'\n",
    "        \n",
    "        print('\\n'+self.name+': logistic regression')\n",
    "        print('\\n{} ~ {}'.format(self.varnames[0], coef_str))\n",
    "        print('\\033[1m'+\"{:<15} {:<15}\".format('Coefficient','Estimate')+'\\033[0m')\n",
    "        for k, v in sorted(table_dic.items()):\n",
    "            label = v\n",
    "            print(\"{:<15} {:<15}\".format(k, label))\n",
    "        if not self.converged:\n",
    "            print('\\nWarning: IRLS failed to converge. Try increasing the number of iterations.')\n",
    "        else:\n",
    "            print('\\nConverged in {} iterations (IRLS)'.format(self.converged_k))\n",
    "        \n",
    "        return(None)\n",
    "        \n",
    "\n",
    "    def predict(self, X, use_probability = False):\n",
    "        \"\"\"\n",
    "        Given the fitted model and a new sample matrix, X, \n",
    "        returns an array (y) of predicted log-odds (or optionally the probabilities).\n",
    "        \"\"\"\n",
    "        \n",
    "        if not hasattr(self, 'w'):\n",
    "            print('LogisticModel has not been fit.')\n",
    "            return(None)\n",
    "                \n",
    "        pred = X.dot(self.w)\n",
    "        \n",
    "        if use_probability:\n",
    "            odds = np.exp(pred)\n",
    "            pred = odds / (1 + odds)\n",
    "        \n",
    "        return(pred)"
   ]
  },
  {
   "cell_type": "code",
   "execution_count": 8,
   "metadata": {},
   "outputs": [
    {
     "ename": "ValueError",
     "evalue": "math domain error",
     "output_type": "error",
     "traceback": [
      "\u001b[1;31m---------------------------------------------------------------------------\u001b[0m",
      "\u001b[1;31mValueError\u001b[0m                                Traceback (most recent call last)",
      "\u001b[1;32m<ipython-input-8-745fdafbe89b>\u001b[0m in \u001b[0;36m<module>\u001b[1;34m\u001b[0m\n\u001b[0;32m      3\u001b[0m \u001b[0mdata\u001b[0m \u001b[1;33m=\u001b[0m \u001b[0mread_dataset\u001b[0m\u001b[1;33m(\u001b[0m\u001b[1;34m'../data/p_data_lr.csv'\u001b[0m\u001b[1;33m,\u001b[0m \u001b[0mname\u001b[0m\u001b[1;33m=\u001b[0m\u001b[1;34m'EMA'\u001b[0m\u001b[1;33m)\u001b[0m\u001b[1;33m\u001b[0m\u001b[1;33m\u001b[0m\u001b[0m\n\u001b[0;32m      4\u001b[0m \u001b[1;33m\u001b[0m\u001b[0m\n\u001b[1;32m----> 5\u001b[1;33m \u001b[0mdata\u001b[0m\u001b[1;33m.\u001b[0m\u001b[0mfit\u001b[0m\u001b[1;33m(\u001b[0m\u001b[0miterations\u001b[0m\u001b[1;33m=\u001b[0m\u001b[1;36m15\u001b[0m\u001b[1;33m)\u001b[0m\u001b[1;33m\u001b[0m\u001b[1;33m\u001b[0m\u001b[0m\n\u001b[0m",
      "\u001b[1;32m<ipython-input-3-f74d3122572b>\u001b[0m in \u001b[0;36mfit\u001b[1;34m(self, iterations)\u001b[0m\n\u001b[0;32m     23\u001b[0m         \u001b[0mw\u001b[0m \u001b[1;33m=\u001b[0m \u001b[0mnp\u001b[0m\u001b[1;33m.\u001b[0m\u001b[0marray\u001b[0m\u001b[1;33m(\u001b[0m\u001b[1;33m[\u001b[0m\u001b[1;36m0\u001b[0m\u001b[1;33m]\u001b[0m\u001b[1;33m*\u001b[0m\u001b[0mself\u001b[0m\u001b[1;33m.\u001b[0m\u001b[0mX\u001b[0m\u001b[1;33m.\u001b[0m\u001b[0mshape\u001b[0m\u001b[1;33m[\u001b[0m\u001b[1;36m1\u001b[0m\u001b[1;33m]\u001b[0m\u001b[1;33m,\u001b[0m \u001b[0mdtype\u001b[0m\u001b[1;33m=\u001b[0m\u001b[1;34m'float64'\u001b[0m\u001b[1;33m)\u001b[0m\u001b[1;33m\u001b[0m\u001b[1;33m\u001b[0m\u001b[0m\n\u001b[0;32m     24\u001b[0m         \u001b[0my_bar\u001b[0m \u001b[1;33m=\u001b[0m \u001b[0mnp\u001b[0m\u001b[1;33m.\u001b[0m\u001b[0mmean\u001b[0m\u001b[1;33m(\u001b[0m\u001b[0mself\u001b[0m\u001b[1;33m.\u001b[0m\u001b[0my\u001b[0m\u001b[1;33m)\u001b[0m\u001b[1;33m\u001b[0m\u001b[1;33m\u001b[0m\u001b[0m\n\u001b[1;32m---> 25\u001b[1;33m         \u001b[0mw_init\u001b[0m \u001b[1;33m=\u001b[0m \u001b[0mmath\u001b[0m\u001b[1;33m.\u001b[0m\u001b[0mlog\u001b[0m\u001b[1;33m(\u001b[0m\u001b[0my_bar\u001b[0m\u001b[1;33m/\u001b[0m\u001b[1;33m(\u001b[0m\u001b[1;36m1\u001b[0m\u001b[1;33m-\u001b[0m\u001b[0my_bar\u001b[0m\u001b[1;33m)\u001b[0m\u001b[1;33m)\u001b[0m\u001b[1;33m\u001b[0m\u001b[1;33m\u001b[0m\u001b[0m\n\u001b[0m\u001b[0;32m     26\u001b[0m         \u001b[0mself\u001b[0m\u001b[1;33m.\u001b[0m\u001b[0mconverged\u001b[0m \u001b[1;33m=\u001b[0m \u001b[1;32mFalse\u001b[0m\u001b[1;33m\u001b[0m\u001b[1;33m\u001b[0m\u001b[0m\n\u001b[0;32m     27\u001b[0m         \u001b[0mnll_sequence\u001b[0m \u001b[1;33m=\u001b[0m \u001b[1;33m[\u001b[0m\u001b[1;33m]\u001b[0m\u001b[1;33m\u001b[0m\u001b[1;33m\u001b[0m\u001b[0m\n",
      "\u001b[1;31mValueError\u001b[0m: math domain error"
     ]
    }
   ],
   "source": [
    "# path = os.path.abspath(os.path.join(os.path.dirname( __file__ ), '..', 'data/p_data_lr.csv'))\n",
    "\n",
    "data = read_dataset('../data/p_data_lr.csv', name='EMA')\n",
    "\n",
    "data.fit(iterations=15)"
   ]
  },
  {
   "cell_type": "markdown",
   "metadata": {},
   "source": [
    "We can visualize convergence of the NLL and see that the algorithm doesn't require many iterations to converge:"
   ]
  },
  {
   "cell_type": "code",
   "execution_count": 5,
   "metadata": {},
   "outputs": [
    {
     "data": {
      "image/png": "[encoded data removed]",
      "text/plain": [
       "<matplotlib.figure.Figure at 0x222415d7b00>"
      ]
     },
     "metadata": {},
     "output_type": "display_data"
    }
   ],
   "source": [
    "f, axes = plt.subplots(3, sharex=True, sharey=False, figsize=(9,5))\n",
    "axes[0].set_title('Convergence of Negative Log Likelihood (NLL)')\n",
    "plt.xlabel('iteration')\n",
    "f.text(.05, 0.5, 'NLL', ha='center', va='center', rotation='vertical');\n",
    "\n",
    "for i in range(3):\n",
    "    axes[i].plot(np.arange(len(data[i].nll_sequence)),data[i].nll_sequence, label=data[i].name+' dataset')\n",
    "    axes[i].text(.97, .75, data[i].name+' dataset', transform=axes[i].transAxes, ha='right')\n",
    "    axes[i].locator_params(nbins=2, axis='y')"
   ]
  },
  {
   "cell_type": "markdown",
   "metadata": {},
   "source": [
    "Summaries of each of the fitted models:"
   ]
  },
  {
   "cell_type": "code",
   "execution_count": 6,
   "metadata": {},
   "outputs": [
    {
     "name": "stdout",
     "output_type": "stream",
     "text": [
      "\n",
      "fieldgoals: logistic regression\n",
      "\n",
      "Success ~ Yards + Week\n",
      "\n",
      "\u001b[1mCoefficient     Estimate       \u001b[0m\n",
      "--------------- ---------------\n",
      "<Intercept>     6.299689734335034\n",
      "Week            -0.0524336078191799\n",
      "Yards           -0.1127354275434901\n",
      "\n",
      "Converged in 8 iterations (IRLS)\n"
     ]
    }
   ],
   "source": [
    "data[0].summary()"
   ]
  },
  {
   "cell_type": "code",
   "execution_count": 7,
   "metadata": {},
   "outputs": [
    {
     "name": "stdout",
     "output_type": "stream",
     "text": [
      "\n",
      "juice: logistic regression\n",
      "\n",
      "Growth ~ pH + Nisin + Temp + Brix\n",
      "\n",
      "\u001b[1mCoefficient     Estimate       \u001b[0m\n",
      "--------------- ---------------\n",
      "<Intercept>     -7.246333840412728\n",
      "Brix            -0.31173234862940336\n",
      "Nisin           -0.066276262143294\n",
      "Temp            0.1104223950074471\n",
      "pH              1.885950986253122\n",
      "\n",
      "Converged in 8 iterations (IRLS)\n"
     ]
    }
   ],
   "source": [
    "data[1].summary()"
   ]
  },
  {
   "cell_type": "code",
   "execution_count": 8,
   "metadata": {},
   "outputs": [
    {
     "name": "stdout",
     "output_type": "stream",
     "text": [
      "\n",
      "gold: logistic regression\n",
      "\n",
      "Gold ~ As + Sb + Lineament\n",
      "\n",
      "\u001b[1mCoefficient     Estimate       \u001b[0m\n",
      "--------------- ---------------\n",
      "<Intercept>     -7.609650868692922\n",
      "As              1.2046492650019085\n",
      "Lineament       3.1972564925535014\n",
      "Sb              1.420954188973844\n",
      "\n",
      "Converged in 12 iterations (IRLS)\n"
     ]
    }
   ],
   "source": [
    "data[2].summary()"
   ]
  }
 ],
 "metadata": {
  "kernelspec": {
   "display_name": "Python 3",
   "language": "python",
   "name": "python3"
  },
  "language_info": {
   "codemirror_mode": {
    "name": "ipython",
    "version": 3
   },
   "file_extension": ".py",
   "mimetype": "text/x-python",
   "name": "python",
   "nbconvert_exporter": "python",
   "pygments_lexer": "ipython3",
   "version": "3.8.1"
  }
 },
 "nbformat": 4,
 "nbformat_minor": 2
}
